{
  "nbformat": 4,
  "nbformat_minor": 0,
  "metadata": {
    "colab": {
      "provenance": [],
      "authorship_tag": "ABX9TyOJ/e52X34O9unCU1eDbvYI",
      "include_colab_link": true
    },
    "kernelspec": {
      "name": "python3",
      "display_name": "Python 3"
    },
    "language_info": {
      "name": "python"
    }
  },
  "cells": [
    {
      "cell_type": "markdown",
      "metadata": {
        "id": "view-in-github",
        "colab_type": "text"
      },
      "source": [
        "<a href=\"https://colab.research.google.com/github/KoYa2003/Ai-Bootcamp/blob/main/Task3_AIBootcamp.ipynb\" target=\"_parent\"><img src=\"https://colab.research.google.com/assets/colab-badge.svg\" alt=\"Open In Colab\"/></a>"
      ]
    },
    {
      "cell_type": "code",
      "execution_count": 2,
      "metadata": {
        "colab": {
          "base_uri": "https://localhost:8080/"
        },
        "id": "-KmM9m_Kx9X5",
        "outputId": "4e725c35-6f5b-4673-9772-0b2cab92ccf7"
      },
      "outputs": [
        {
          "output_type": "stream",
          "name": "stdout",
          "text": [
            "Basic Calculator\n",
            "Enter first number: 23\n",
            "Enter second number: 2\n",
            "Select operation: +  -  *  /\n",
            "Enter operator: +\n",
            "Result: 25.0\n"
          ]
        }
      ],
      "source": [
        "# Function to add two numbers\n",
        "def add(a, b):\n",
        "    return a + b\n",
        "\n",
        "# Function to subtract two numbers\n",
        "def subtract(a, b):\n",
        "    return a - b\n",
        "\n",
        "# Function to multiply two numbers\n",
        "def multiply(a, b):\n",
        "    return a * b\n",
        "\n",
        "# Function to divide two numbers\n",
        "def divide(a, b):\n",
        "    if b == 0:\n",
        "        return \"Error: Division by zero!\"\n",
        "    return a / b\n",
        "\n",
        "# Main program\n",
        "print(\"Basic Calculator\")\n",
        "\n",
        "num1 = float(input(\"Enter first number: \"))\n",
        "num2 = float(input(\"Enter second number: \"))\n",
        "\n",
        "print(\"Select operation: +  -  *  /\")\n",
        "choice = input(\"Enter operator: \")\n",
        "\n",
        "if choice in ['+', '-', '*', '/']:\n",
        "    if choice == '+':\n",
        "        print(\"Result:\", add(num1, num2))\n",
        "    elif choice == '-':\n",
        "        print(\"Result:\", subtract(num1, num2))\n",
        "    elif choice == '*':\n",
        "        print(\"Result:\", multiply(num1, num2))\n",
        "    elif choice == '/':\n",
        "        print(\"Result:\", divide(num1, num2))\n",
        "else:\n",
        "    print(\"Invalid operation! Please enter one of +, -, *, /.\")\n"
      ]
    }
  ]
}